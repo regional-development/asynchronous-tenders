{
 "cells": [
  {
   "cell_type": "code",
   "execution_count": 1,
   "metadata": {},
   "outputs": [],
   "source": [
    "import json\n",
    "import pandas as pd\n",
    "from pathlib import Path\n",
    "from datetime import datetime"
   ]
  },
  {
   "cell_type": "code",
   "execution_count": 2,
   "metadata": {},
   "outputs": [],
   "source": [
    "PATH = Path(\"./../data\").resolve()"
   ]
  },
  {
   "cell_type": "code",
   "execution_count": 3,
   "metadata": {},
   "outputs": [],
   "source": [
    "def generator(path):\n",
    "    for file in path.rglob(\"*.json\"):\n",
    "        with open(file, \"r\") as json_file:\n",
    "            contents = json.load(json_file)\n",
    "        yield {\n",
    "            \"tender_id\": file.parts[-1].split(\".\")[0],\n",
    "            \"json_data\": contents,\n",
    "            \"timestamp\": pd.to_datetime(datetime.now())\n",
    "        }"
   ]
  },
  {
   "cell_type": "code",
   "execution_count": 4,
   "metadata": {},
   "outputs": [
    {
     "data": {
      "text/html": [
       "<div>\n",
       "<style scoped>\n",
       "    .dataframe tbody tr th:only-of-type {\n",
       "        vertical-align: middle;\n",
       "    }\n",
       "\n",
       "    .dataframe tbody tr th {\n",
       "        vertical-align: top;\n",
       "    }\n",
       "\n",
       "    .dataframe thead th {\n",
       "        text-align: right;\n",
       "    }\n",
       "</style>\n",
       "<table border=\"1\" class=\"dataframe\">\n",
       "  <thead>\n",
       "    <tr style=\"text-align: right;\">\n",
       "      <th></th>\n",
       "      <th>tender_id</th>\n",
       "      <th>json_data</th>\n",
       "      <th>timestamp</th>\n",
       "    </tr>\n",
       "  </thead>\n",
       "  <tbody>\n",
       "    <tr>\n",
       "      <th>0</th>\n",
       "      <td>328d589f11644f8bbefbb034f68c38ba</td>\n",
       "      <td>{'data': {'procurementMethod': 'open', 'status...</td>\n",
       "      <td>2020-08-27 17:47:21.988663</td>\n",
       "    </tr>\n",
       "    <tr>\n",
       "      <th>1</th>\n",
       "      <td>447e6e643b16448cbb750b0993322139</td>\n",
       "      <td>{'data': {'procurementMethod': 'limited', 'sta...</td>\n",
       "      <td>2020-08-27 17:47:21.990658</td>\n",
       "    </tr>\n",
       "    <tr>\n",
       "      <th>2</th>\n",
       "      <td>55c9dbd0855f46a6921455b4853a62ff</td>\n",
       "      <td>{'data': {'procurementMethod': 'open', 'number...</td>\n",
       "      <td>2020-08-27 17:47:21.992652</td>\n",
       "    </tr>\n",
       "    <tr>\n",
       "      <th>3</th>\n",
       "      <td>aa2b106a731d46e4b4e5cd54a9752c1a</td>\n",
       "      <td>{'data': {'procurementMethod': 'limited', 'sta...</td>\n",
       "      <td>2020-08-27 17:47:21.994678</td>\n",
       "    </tr>\n",
       "    <tr>\n",
       "      <th>4</th>\n",
       "      <td>d8bffd5efe2b4c29974ab71f101e90f8</td>\n",
       "      <td>{'data': {'procurementMethod': 'limited', 'sta...</td>\n",
       "      <td>2020-08-27 17:47:21.995674</td>\n",
       "    </tr>\n",
       "    <tr>\n",
       "      <th>5</th>\n",
       "      <td>e272e991b308477198260a8d62ad519e</td>\n",
       "      <td>{'data': {'procurementMethod': 'limited', 'sta...</td>\n",
       "      <td>2020-08-27 17:47:21.996672</td>\n",
       "    </tr>\n",
       "  </tbody>\n",
       "</table>\n",
       "</div>"
      ],
      "text/plain": [
       "                          tender_id  \\\n",
       "0  328d589f11644f8bbefbb034f68c38ba   \n",
       "1  447e6e643b16448cbb750b0993322139   \n",
       "2  55c9dbd0855f46a6921455b4853a62ff   \n",
       "3  aa2b106a731d46e4b4e5cd54a9752c1a   \n",
       "4  d8bffd5efe2b4c29974ab71f101e90f8   \n",
       "5  e272e991b308477198260a8d62ad519e   \n",
       "\n",
       "                                           json_data  \\\n",
       "0  {'data': {'procurementMethod': 'open', 'status...   \n",
       "1  {'data': {'procurementMethod': 'limited', 'sta...   \n",
       "2  {'data': {'procurementMethod': 'open', 'number...   \n",
       "3  {'data': {'procurementMethod': 'limited', 'sta...   \n",
       "4  {'data': {'procurementMethod': 'limited', 'sta...   \n",
       "5  {'data': {'procurementMethod': 'limited', 'sta...   \n",
       "\n",
       "                   timestamp  \n",
       "0 2020-08-27 17:47:21.988663  \n",
       "1 2020-08-27 17:47:21.990658  \n",
       "2 2020-08-27 17:47:21.992652  \n",
       "3 2020-08-27 17:47:21.994678  \n",
       "4 2020-08-27 17:47:21.995674  \n",
       "5 2020-08-27 17:47:21.996672  "
      ]
     },
     "execution_count": 4,
     "metadata": {},
     "output_type": "execute_result"
    }
   ],
   "source": [
    "data = generator(PATH)\n",
    "pd.DataFrame(data)"
   ]
  },
  {
   "cell_type": "code",
   "execution_count": 5,
   "metadata": {},
   "outputs": [
    {
     "name": "stdout",
     "output_type": "stream",
     "text": [
      "6.3 ms ± 410 µs per loop (mean ± std. dev. of 7 runs, 100 loops each)\n"
     ]
    }
   ],
   "source": [
    "%timeit pd.DataFrame(generator(PATH))"
   ]
  }
 ],
 "metadata": {
  "kernelspec": {
   "display_name": "Python 3",
   "language": "python",
   "name": "python3"
  },
  "language_info": {
   "codemirror_mode": {
    "name": "ipython",
    "version": 3
   },
   "file_extension": ".py",
   "mimetype": "text/x-python",
   "name": "python",
   "nbconvert_exporter": "python",
   "pygments_lexer": "ipython3",
   "version": "3.7.4"
  }
 },
 "nbformat": 4,
 "nbformat_minor": 4
}
